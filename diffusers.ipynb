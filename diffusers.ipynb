{
 "cells": [
  {
   "cell_type": "code",
   "execution_count": null,
   "id": "128630c8-ddf6-4e1b-8107-fd3672dc17d6",
   "metadata": {},
   "outputs": [],
   "source": [
    "%pip install torch==1.13.0.dev20220822+cu116 diffusers transformers --extra-index-url https://download.pytorch.org/whl/nightly/cu116"
   ]
  },
  {
   "cell_type": "code",
   "execution_count": 3,
   "id": "ee572253-28ab-4376-a73d-0ab039350544",
   "metadata": {},
   "outputs": [],
   "source": [
    "TOKEN = !pass show tokens/huggingface\n",
    "TOKEN = TOKEN[0]"
   ]
  },
  {
   "cell_type": "code",
   "execution_count": null,
   "id": "93bcf4fe-4f95-4c99-98b3-4621f16bb098",
   "metadata": {},
   "outputs": [],
   "source": [
    "import sdhelper"
   ]
  },
  {
   "cell_type": "code",
   "execution_count": null,
   "id": "2f05b7b8-33ec-45dd-b5d7-1ea0ed6932a5",
   "metadata": {},
   "outputs": [],
   "source": [
    "model = sdhelper.HFDiffuser(TOKEN, allow_nsfw=True)"
   ]
  },
  {
   "cell_type": "markdown",
   "id": "68f0876f-0b19-4ebc-b226-6203264f687f",
   "metadata": {},
   "source": [
    "---"
   ]
  },
  {
   "cell_type": "markdown",
   "id": "e7de5d58-d5be-45f7-934b-b99f6e575f69",
   "metadata": {
    "tags": []
   },
   "source": [
    "# Resources\n",
    "\n",
    "https://www.reddit.com/r/StableDiffusion/comments/wuyu2u/how_do_i_run_stable_diffusion_and_sharing_faqs/\n",
    "\n",
    "https://github.com/Maks-s/sd-akashic\n",
    "\n",
    "https://moritz.pm/posts/parameters\n",
    "\n",
    "https://www.reddit.com/r/StableDiffusion/comments/wp26lp/i_spent_the_last_few_days_trying_to_get_a_clean/\n",
    "\n",
    "https://github.com/rinongal/textual_inversion\n",
    "\n",
    "https://www.reddit.com/r/StableDiffusion/comments/wucvgv/comment/ilae8gv/"
   ]
  },
  {
   "cell_type": "markdown",
   "id": "27cf8ac6-7a4a-4893-b546-8f5fe411fb65",
   "metadata": {
    "tags": []
   },
   "source": [
    "# Experiements"
   ]
  },
  {
   "cell_type": "markdown",
   "id": "94d2b940-6667-4827-b929-12ff8aeaac21",
   "metadata": {
    "tags": []
   },
   "source": [
    "## Fiery Halfling"
   ]
  },
  {
   "cell_type": "code",
   "execution_count": null,
   "id": "aeb6fba8-164f-4a0f-8165-902a52e4cb50",
   "metadata": {},
   "outputs": [],
   "source": [
    "prompt = \"fantasy male halfling adventurer portrait, symmetric face, fiery hair, RPG rulebook illustration\"\n",
    "prompt += \", iridescent details, ray tracing, 8k, highly detailed, sharp focus\""
   ]
  },
  {
   "cell_type": "code",
   "execution_count": null,
   "id": "7115d07e-ca02-41f2-8c3d-325dc15c67b3",
   "metadata": {},
   "outputs": [],
   "source": [
    "model.explore(prompt, nb_images=25)"
   ]
  },
  {
   "cell_type": "code",
   "execution_count": null,
   "id": "d267c269-e7b5-4085-9d69-39883b795cc3",
   "metadata": {},
   "outputs": [],
   "source": [
    "model.exploit(prompt, 10000)"
   ]
  },
  {
   "cell_type": "code",
   "execution_count": null,
   "id": "f9dbe8bb-3c41-4ee2-b62a-cc53eb52f77c",
   "metadata": {
    "tags": []
   },
   "outputs": [],
   "source": [
    "prompt = \"fantasy :gender :race :profession portrait, symmetric face, :haircolor hair, RPG rulebook illustration\"\n",
    "prompt += \", iridescent details, ray tracing, 8k, highly detailed, sharp focus\"\n",
    "combinaisons = {\n",
    "    \":race\": [\"human\", \"halfling\", \"gnome\", \"elve\", \"dwarf\"],\n",
    "    \":profession\": [\"adventurer\", \"wizard\", \"paladin\"],\n",
    "    \":haircolor\": [\"fiery\"], #, \"icy\"],\n",
    "    \":gender\": [\"male\", \"female\"],\n",
    "}\n",
    "\n",
    "model.combine(prompt, combinaisons, seed=10000, guidance_scale=6)"
   ]
  },
  {
   "cell_type": "code",
   "execution_count": null,
   "id": "959a771d-da32-437c-a868-ba233074553a",
   "metadata": {},
   "outputs": [],
   "source": [
    "prompt = \"fantasy :gender :race :profession portrait, symmetric face, :haircolor hair, RPG rulebook illustration\"\n",
    "prompt += \", iridescent details, ray tracing, 8k, highly detailed, sharp focus\"\n",
    "combinaisons = {\n",
    "    \":race\": [\"human\", \"halfling\", \"gnome\", \"elve\", \"dwarf\"],\n",
    "    \":profession\": [\"adventurer\", \"wizard\", \"paladin\"],\n",
    "    \":haircolor\": [\"icy\"],\n",
    "    \":gender\": [\"male\", \"female\"],\n",
    "}\n",
    "\n",
    "model.combine(prompt, combinaisons, seed=10000, guidance_scale=6)"
   ]
  },
  {
   "cell_type": "markdown",
   "id": "344ad80b-f5ce-468a-b9a1-9991671d1610",
   "metadata": {},
   "source": [
    "## Pokemon"
   ]
  },
  {
   "cell_type": "code",
   "execution_count": null,
   "id": "52d5f014-8cbe-470f-bf69-38429c2c6409",
   "metadata": {},
   "outputs": [],
   "source": [
    "prompt = \":type :element pokemon style drawing anime color flat shading concept art\"\n",
    "combinaisons = {\n",
    "    \":type\": [\"canine\", \"feline\", \"avian\", \"insect\"],\n",
    "    \":element\": [\"\",  \"red\", \"fire\", \"blue\", \"ice\", \"yellow\", \"lightning\", \"green\", \"plant\"],\n",
    "}\n",
    "\n",
    "result1 = model.combine(prompt, combinaisons, inference_steps = 50, seed=0)"
   ]
  },
  {
   "cell_type": "code",
   "execution_count": null,
   "id": "a2f344ce-c87f-44f5-a53a-4965cb4fc75f",
   "metadata": {},
   "outputs": [],
   "source": [
    "prompt = \":type :element pokemon style drawing anime color flat shading concept art\"\n",
    "combinaisons = {\n",
    "    \":type\": [\"canine\", \"feline\", \"avian\", \"insect\"],\n",
    "    \":element\": [\"\",  \"red\", \"fire\", \"blue\", \"ice\", \"yellow\", \"lightning\", \"green\", \"plant\"],\n",
    "}\n",
    "\n",
    "result2 = model.combine(prompt, combinaisons, inference_steps = 50, seed=0, guidance_scale=4)"
   ]
  },
  {
   "cell_type": "code",
   "execution_count": null,
   "id": "5633f1e6-94d0-4246-9940-ec158ebedb49",
   "metadata": {},
   "outputs": [],
   "source": [
    "prompt = \":type :element pokemon style drawing anime color flat shading concept art\"\n",
    "combinaisons = {\n",
    "    \":type\": [\"canine\", \"feline\", \"avian\", \"insect\"],\n",
    "    \":element\": [\"\",  \"red\", \"fire\", \"blue\", \"ice\", \"yellow\", \"lightning\", \"green\", \"plant\"],\n",
    "}\n",
    "\n",
    "result3 = model.combine(prompt, combinaisons, inference_steps = 50, seed=0, guidance_scale=12)"
   ]
  },
  {
   "cell_type": "markdown",
   "id": "cc8c2d11-f747-4e1d-9caa-8468ff8fa99e",
   "metadata": {},
   "source": [
    "---"
   ]
  }
 ],
 "metadata": {
  "kernelspec": {
   "display_name": "Python 3",
   "language": "python",
   "name": "python3"
  },
  "language_info": {
   "codemirror_mode": {
    "name": "ipython",
    "version": 3
   },
   "file_extension": ".py",
   "mimetype": "text/x-python",
   "name": "python",
   "nbconvert_exporter": "python",
   "pygments_lexer": "ipython3",
   "version": "3.10.4"
  }
 },
 "nbformat": 4,
 "nbformat_minor": 5
}
